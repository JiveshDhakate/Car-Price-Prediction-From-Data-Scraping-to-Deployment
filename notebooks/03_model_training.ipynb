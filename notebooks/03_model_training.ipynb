{
 "cells": [
  {
   "metadata": {},
   "cell_type": "markdown",
   "source": "# **Model Training and Evaluation – Car Price Prediction**",
   "id": "c78aaf230cdb22e1"
  },
  {
   "metadata": {
    "collapsed": true,
    "ExecuteTime": {
     "end_time": "2025-03-31T07:27:28.130898Z",
     "start_time": "2025-03-31T07:27:28.126220Z"
    }
   },
   "cell_type": "code",
   "source": [
    "import pandas as pd\n",
    "import numpy as np\n",
    "import matplotlib.pyplot as plt\n",
    "import seaborn as sns\n",
    "\n",
    "\n",
    "from sklearn.model_selection import train_test_split\n",
    "from sklearn.preprocessing import StandardScaler\n",
    "from sklearn.metrics import mean_absolute_error, mean_squared_error, r2_score\n",
    "import numpy as np"
   ],
   "id": "initial_id",
   "outputs": [],
   "execution_count": 33
  },
  {
   "metadata": {},
   "cell_type": "markdown",
   "source": [
    "### **Loading the Preprocessed Dataset**\n",
    "\n",
    "We load the cleaned dataset `processed_cars_data.csv`, which contains sales data of used cars across different brands.\n",
    "\n",
    "The dataset includes:\n",
    "- Features like `Brand`, `Year`, `Mileage`, `Transmission`, `Fuel Type`, etc.\n",
    "- A target column `Sale Price (€)`\n",
    "- An engineered feature: **`Car Age at Sale`**\n"
   ],
   "id": "d154ab677265e19a"
  },
  {
   "metadata": {
    "ExecuteTime": {
     "end_time": "2025-03-31T07:27:28.227839Z",
     "start_time": "2025-03-31T07:27:28.210675Z"
    }
   },
   "cell_type": "code",
   "source": [
    "# Load the cleaned dataset\n",
    "df = pd.read_csv(\"../data/processed_cars_data.csv\")\n",
    "\n",
    "# Preview\n",
    "df.head()"
   ],
   "id": "16240359b9bb4a2b",
   "outputs": [
    {
     "data": {
      "text/plain": [
       "                    Model Brand Date of Sale  Sale Price (€)  Year  Mileage  \\\n",
       "0          Audi A1 (TFSI)  Audi   2024-01-06          4800.0  2012   130377   \n",
       "1   Audi Q7 (S line Plus)  Audi   2024-01-07         14450.0  2012    91483   \n",
       "2         Audi RS3 (TFSI)  Audi   2024-01-09         70256.0  2022     3869   \n",
       "3        Audi A3 (S line)  Audi   2024-01-09         10308.0  2013    83389   \n",
       "4  Audi A6 Saloon (ultra)  Audi   2024-01-09         21833.0  2018    42918   \n",
       "\n",
       "  Classification Transmission Fuel Type  \\\n",
       "0      Hatchback       Manual    Petrol   \n",
       "1            SUV    Automatic    Diesel   \n",
       "2         Saloon    Automatic    Petrol   \n",
       "3      Hatchback       Manual    Diesel   \n",
       "4         Saloon    Automatic    Diesel   \n",
       "\n",
       "                                         Description Sale Location  \\\n",
       "0  Grey Audi A11.4 TFSI Sport Euro 5 (s/s) 3dr2 p...     Waterford   \n",
       "1  Blue Audi Q73.0 TDI S line Plus Tiptronic quat...         Clare   \n",
       "2  Black Audi RS3 SALOON2.5 RS 3 TFSI QUATTRO VOR...          Mayo   \n",
       "3  Black Audi A32.0 TDI S line Hatchback 3dr Dies...      Limerick   \n",
       "4  Red Audi A6 Saloon2.0 TDI Ultra Black Edition ...        Dublin   \n",
       "\n",
       "   Car Age at Sale  \n",
       "0               12  \n",
       "1               12  \n",
       "2                2  \n",
       "3               11  \n",
       "4                6  "
      ],
      "text/html": [
       "<div>\n",
       "<style scoped>\n",
       "    .dataframe tbody tr th:only-of-type {\n",
       "        vertical-align: middle;\n",
       "    }\n",
       "\n",
       "    .dataframe tbody tr th {\n",
       "        vertical-align: top;\n",
       "    }\n",
       "\n",
       "    .dataframe thead th {\n",
       "        text-align: right;\n",
       "    }\n",
       "</style>\n",
       "<table border=\"1\" class=\"dataframe\">\n",
       "  <thead>\n",
       "    <tr style=\"text-align: right;\">\n",
       "      <th></th>\n",
       "      <th>Model</th>\n",
       "      <th>Brand</th>\n",
       "      <th>Date of Sale</th>\n",
       "      <th>Sale Price (€)</th>\n",
       "      <th>Year</th>\n",
       "      <th>Mileage</th>\n",
       "      <th>Classification</th>\n",
       "      <th>Transmission</th>\n",
       "      <th>Fuel Type</th>\n",
       "      <th>Description</th>\n",
       "      <th>Sale Location</th>\n",
       "      <th>Car Age at Sale</th>\n",
       "    </tr>\n",
       "  </thead>\n",
       "  <tbody>\n",
       "    <tr>\n",
       "      <th>0</th>\n",
       "      <td>Audi A1 (TFSI)</td>\n",
       "      <td>Audi</td>\n",
       "      <td>2024-01-06</td>\n",
       "      <td>4800.0</td>\n",
       "      <td>2012</td>\n",
       "      <td>130377</td>\n",
       "      <td>Hatchback</td>\n",
       "      <td>Manual</td>\n",
       "      <td>Petrol</td>\n",
       "      <td>Grey Audi A11.4 TFSI Sport Euro 5 (s/s) 3dr2 p...</td>\n",
       "      <td>Waterford</td>\n",
       "      <td>12</td>\n",
       "    </tr>\n",
       "    <tr>\n",
       "      <th>1</th>\n",
       "      <td>Audi Q7 (S line Plus)</td>\n",
       "      <td>Audi</td>\n",
       "      <td>2024-01-07</td>\n",
       "      <td>14450.0</td>\n",
       "      <td>2012</td>\n",
       "      <td>91483</td>\n",
       "      <td>SUV</td>\n",
       "      <td>Automatic</td>\n",
       "      <td>Diesel</td>\n",
       "      <td>Blue Audi Q73.0 TDI S line Plus Tiptronic quat...</td>\n",
       "      <td>Clare</td>\n",
       "      <td>12</td>\n",
       "    </tr>\n",
       "    <tr>\n",
       "      <th>2</th>\n",
       "      <td>Audi RS3 (TFSI)</td>\n",
       "      <td>Audi</td>\n",
       "      <td>2024-01-09</td>\n",
       "      <td>70256.0</td>\n",
       "      <td>2022</td>\n",
       "      <td>3869</td>\n",
       "      <td>Saloon</td>\n",
       "      <td>Automatic</td>\n",
       "      <td>Petrol</td>\n",
       "      <td>Black Audi RS3 SALOON2.5 RS 3 TFSI QUATTRO VOR...</td>\n",
       "      <td>Mayo</td>\n",
       "      <td>2</td>\n",
       "    </tr>\n",
       "    <tr>\n",
       "      <th>3</th>\n",
       "      <td>Audi A3 (S line)</td>\n",
       "      <td>Audi</td>\n",
       "      <td>2024-01-09</td>\n",
       "      <td>10308.0</td>\n",
       "      <td>2013</td>\n",
       "      <td>83389</td>\n",
       "      <td>Hatchback</td>\n",
       "      <td>Manual</td>\n",
       "      <td>Diesel</td>\n",
       "      <td>Black Audi A32.0 TDI S line Hatchback 3dr Dies...</td>\n",
       "      <td>Limerick</td>\n",
       "      <td>11</td>\n",
       "    </tr>\n",
       "    <tr>\n",
       "      <th>4</th>\n",
       "      <td>Audi A6 Saloon (ultra)</td>\n",
       "      <td>Audi</td>\n",
       "      <td>2024-01-09</td>\n",
       "      <td>21833.0</td>\n",
       "      <td>2018</td>\n",
       "      <td>42918</td>\n",
       "      <td>Saloon</td>\n",
       "      <td>Automatic</td>\n",
       "      <td>Diesel</td>\n",
       "      <td>Red Audi A6 Saloon2.0 TDI Ultra Black Edition ...</td>\n",
       "      <td>Dublin</td>\n",
       "      <td>6</td>\n",
       "    </tr>\n",
       "  </tbody>\n",
       "</table>\n",
       "</div>"
      ]
     },
     "execution_count": 34,
     "metadata": {},
     "output_type": "execute_result"
    }
   ],
   "execution_count": 34
  },
  {
   "metadata": {
    "ExecuteTime": {
     "end_time": "2025-03-31T07:27:28.448104Z",
     "start_time": "2025-03-31T07:27:28.444475Z"
    }
   },
   "cell_type": "code",
   "source": [
    "# Check data structure\n",
    "print(\"Shape:\", df.shape)\n",
    "print(\"\\nColumns:\\n\", df.columns)\n",
    "\n",
    "# Check for nulls\n",
    "print(\"\\nMissing Values:\\n\", df.isnull().sum())\n"
   ],
   "id": "c05f5117e46ae795",
   "outputs": [
    {
     "name": "stdout",
     "output_type": "stream",
     "text": [
      "Shape: (1700, 12)\n",
      "\n",
      "Columns:\n",
      " Index(['Model', 'Brand', 'Date of Sale', 'Sale Price (€)', 'Year', 'Mileage',\n",
      "       'Classification', 'Transmission', 'Fuel Type', 'Description',\n",
      "       'Sale Location', 'Car Age at Sale'],\n",
      "      dtype='object')\n",
      "\n",
      "Missing Values:\n",
      " Model              0\n",
      "Brand              0\n",
      "Date of Sale       0\n",
      "Sale Price (€)     0\n",
      "Year               0\n",
      "Mileage            0\n",
      "Classification     0\n",
      "Transmission       0\n",
      "Fuel Type          0\n",
      "Description        0\n",
      "Sale Location      0\n",
      "Car Age at Sale    0\n",
      "dtype: int64\n"
     ]
    }
   ],
   "execution_count": 35
  },
  {
   "metadata": {},
   "cell_type": "markdown",
   "source": [
    "### **Feature Selection and Target Variable**\n",
    "\n",
    "We define:\n",
    "- `y` (target variable): **Sale Price (€)**\n",
    "- `X` (features):\n",
    "  - Brand\n",
    "  - Year\n",
    "  - Mileage\n",
    "  - Classification\n",
    "  - Transmission\n",
    "  - Fuel Type\n",
    "  - Sale Location\n",
    "  - Car Age at Sale\n",
    "\n",
    "These features were selected based on their relationship to price and potential to improve predictive performance.\n"
   ],
   "id": "981ae575cc381522"
  },
  {
   "metadata": {
    "ExecuteTime": {
     "end_time": "2025-03-31T07:27:28.822141Z",
     "start_time": "2025-03-31T07:27:28.819179Z"
    }
   },
   "cell_type": "code",
   "source": [
    "features = [\n",
    "    'Brand', 'Year', 'Mileage', 'Classification',\n",
    "    'Transmission', 'Fuel Type', 'Sale Location',\n",
    "    'Car Age at Sale'\n",
    "]\n",
    "\n",
    "X = df[features]\n",
    "y = df['Sale Price (€)']\n"
   ],
   "id": "a66d7cda18fee40c",
   "outputs": [],
   "execution_count": 36
  },
  {
   "metadata": {},
   "cell_type": "markdown",
   "source": [
    "### **Encoding Categorical Variables**\n",
    "\n",
    "Categorical columns such as `Brand`, `Fuel Type`, and `Transmission` are converted into numerical form using **one-hot encoding** via `pd.get_dummies()`.\n",
    "\n",
    "This ensures that categorical variables are properly represented in machine learning models without introducing ordinal relationships.\n"
   ],
   "id": "e0eaa0be44454d8"
  },
  {
   "metadata": {
    "ExecuteTime": {
     "end_time": "2025-03-31T07:27:29.100819Z",
     "start_time": "2025-03-31T07:27:29.086475Z"
    }
   },
   "cell_type": "code",
   "source": [
    "X_encoded = pd.get_dummies(X, drop_first=True)\n",
    "\n",
    "print(\"Shape after encoding:\", X_encoded.shape)\n",
    "X_encoded.head()\n"
   ],
   "id": "5da49f6eae13bb7b",
   "outputs": [
    {
     "name": "stdout",
     "output_type": "stream",
     "text": [
      "Shape after encoding: (1700, 41)\n"
     ]
    },
    {
     "data": {
      "text/plain": [
       "   Year  Mileage  Car Age at Sale  Brand_BMW  Brand_Benz  Brand_Volkswagen  \\\n",
       "0  2012   130377               12      False       False             False   \n",
       "1  2012    91483               12      False       False             False   \n",
       "2  2022     3869                2      False       False             False   \n",
       "3  2013    83389               11      False       False             False   \n",
       "4  2018    42918                6      False       False             False   \n",
       "\n",
       "   Classification_Coupe  Classification_Estate  Classification_Hatchback  \\\n",
       "0                 False                  False                      True   \n",
       "1                 False                  False                     False   \n",
       "2                 False                  False                     False   \n",
       "3                 False                  False                      True   \n",
       "4                 False                  False                     False   \n",
       "\n",
       "   Classification_SUV  ...  Sale Location_Meath  Sale Location_Monaghan  \\\n",
       "0               False  ...                False                   False   \n",
       "1                True  ...                False                   False   \n",
       "2               False  ...                False                   False   \n",
       "3               False  ...                False                   False   \n",
       "4               False  ...                False                   False   \n",
       "\n",
       "   Sale Location_Offaly  Sale Location_Roscommon  Sale Location_Sligo  \\\n",
       "0                 False                    False                False   \n",
       "1                 False                    False                False   \n",
       "2                 False                    False                False   \n",
       "3                 False                    False                False   \n",
       "4                 False                    False                False   \n",
       "\n",
       "   Sale Location_Tipperary  Sale Location_Waterford  Sale Location_Westmeath  \\\n",
       "0                    False                     True                    False   \n",
       "1                    False                    False                    False   \n",
       "2                    False                    False                    False   \n",
       "3                    False                    False                    False   \n",
       "4                    False                    False                    False   \n",
       "\n",
       "   Sale Location_Wexford  Sale Location_Wicklow  \n",
       "0                  False                  False  \n",
       "1                  False                  False  \n",
       "2                  False                  False  \n",
       "3                  False                  False  \n",
       "4                  False                  False  \n",
       "\n",
       "[5 rows x 41 columns]"
      ],
      "text/html": [
       "<div>\n",
       "<style scoped>\n",
       "    .dataframe tbody tr th:only-of-type {\n",
       "        vertical-align: middle;\n",
       "    }\n",
       "\n",
       "    .dataframe tbody tr th {\n",
       "        vertical-align: top;\n",
       "    }\n",
       "\n",
       "    .dataframe thead th {\n",
       "        text-align: right;\n",
       "    }\n",
       "</style>\n",
       "<table border=\"1\" class=\"dataframe\">\n",
       "  <thead>\n",
       "    <tr style=\"text-align: right;\">\n",
       "      <th></th>\n",
       "      <th>Year</th>\n",
       "      <th>Mileage</th>\n",
       "      <th>Car Age at Sale</th>\n",
       "      <th>Brand_BMW</th>\n",
       "      <th>Brand_Benz</th>\n",
       "      <th>Brand_Volkswagen</th>\n",
       "      <th>Classification_Coupe</th>\n",
       "      <th>Classification_Estate</th>\n",
       "      <th>Classification_Hatchback</th>\n",
       "      <th>Classification_SUV</th>\n",
       "      <th>...</th>\n",
       "      <th>Sale Location_Meath</th>\n",
       "      <th>Sale Location_Monaghan</th>\n",
       "      <th>Sale Location_Offaly</th>\n",
       "      <th>Sale Location_Roscommon</th>\n",
       "      <th>Sale Location_Sligo</th>\n",
       "      <th>Sale Location_Tipperary</th>\n",
       "      <th>Sale Location_Waterford</th>\n",
       "      <th>Sale Location_Westmeath</th>\n",
       "      <th>Sale Location_Wexford</th>\n",
       "      <th>Sale Location_Wicklow</th>\n",
       "    </tr>\n",
       "  </thead>\n",
       "  <tbody>\n",
       "    <tr>\n",
       "      <th>0</th>\n",
       "      <td>2012</td>\n",
       "      <td>130377</td>\n",
       "      <td>12</td>\n",
       "      <td>False</td>\n",
       "      <td>False</td>\n",
       "      <td>False</td>\n",
       "      <td>False</td>\n",
       "      <td>False</td>\n",
       "      <td>True</td>\n",
       "      <td>False</td>\n",
       "      <td>...</td>\n",
       "      <td>False</td>\n",
       "      <td>False</td>\n",
       "      <td>False</td>\n",
       "      <td>False</td>\n",
       "      <td>False</td>\n",
       "      <td>False</td>\n",
       "      <td>True</td>\n",
       "      <td>False</td>\n",
       "      <td>False</td>\n",
       "      <td>False</td>\n",
       "    </tr>\n",
       "    <tr>\n",
       "      <th>1</th>\n",
       "      <td>2012</td>\n",
       "      <td>91483</td>\n",
       "      <td>12</td>\n",
       "      <td>False</td>\n",
       "      <td>False</td>\n",
       "      <td>False</td>\n",
       "      <td>False</td>\n",
       "      <td>False</td>\n",
       "      <td>False</td>\n",
       "      <td>True</td>\n",
       "      <td>...</td>\n",
       "      <td>False</td>\n",
       "      <td>False</td>\n",
       "      <td>False</td>\n",
       "      <td>False</td>\n",
       "      <td>False</td>\n",
       "      <td>False</td>\n",
       "      <td>False</td>\n",
       "      <td>False</td>\n",
       "      <td>False</td>\n",
       "      <td>False</td>\n",
       "    </tr>\n",
       "    <tr>\n",
       "      <th>2</th>\n",
       "      <td>2022</td>\n",
       "      <td>3869</td>\n",
       "      <td>2</td>\n",
       "      <td>False</td>\n",
       "      <td>False</td>\n",
       "      <td>False</td>\n",
       "      <td>False</td>\n",
       "      <td>False</td>\n",
       "      <td>False</td>\n",
       "      <td>False</td>\n",
       "      <td>...</td>\n",
       "      <td>False</td>\n",
       "      <td>False</td>\n",
       "      <td>False</td>\n",
       "      <td>False</td>\n",
       "      <td>False</td>\n",
       "      <td>False</td>\n",
       "      <td>False</td>\n",
       "      <td>False</td>\n",
       "      <td>False</td>\n",
       "      <td>False</td>\n",
       "    </tr>\n",
       "    <tr>\n",
       "      <th>3</th>\n",
       "      <td>2013</td>\n",
       "      <td>83389</td>\n",
       "      <td>11</td>\n",
       "      <td>False</td>\n",
       "      <td>False</td>\n",
       "      <td>False</td>\n",
       "      <td>False</td>\n",
       "      <td>False</td>\n",
       "      <td>True</td>\n",
       "      <td>False</td>\n",
       "      <td>...</td>\n",
       "      <td>False</td>\n",
       "      <td>False</td>\n",
       "      <td>False</td>\n",
       "      <td>False</td>\n",
       "      <td>False</td>\n",
       "      <td>False</td>\n",
       "      <td>False</td>\n",
       "      <td>False</td>\n",
       "      <td>False</td>\n",
       "      <td>False</td>\n",
       "    </tr>\n",
       "    <tr>\n",
       "      <th>4</th>\n",
       "      <td>2018</td>\n",
       "      <td>42918</td>\n",
       "      <td>6</td>\n",
       "      <td>False</td>\n",
       "      <td>False</td>\n",
       "      <td>False</td>\n",
       "      <td>False</td>\n",
       "      <td>False</td>\n",
       "      <td>False</td>\n",
       "      <td>False</td>\n",
       "      <td>...</td>\n",
       "      <td>False</td>\n",
       "      <td>False</td>\n",
       "      <td>False</td>\n",
       "      <td>False</td>\n",
       "      <td>False</td>\n",
       "      <td>False</td>\n",
       "      <td>False</td>\n",
       "      <td>False</td>\n",
       "      <td>False</td>\n",
       "      <td>False</td>\n",
       "    </tr>\n",
       "  </tbody>\n",
       "</table>\n",
       "<p>5 rows × 41 columns</p>\n",
       "</div>"
      ]
     },
     "execution_count": 37,
     "metadata": {},
     "output_type": "execute_result"
    }
   ],
   "execution_count": 37
  },
  {
   "metadata": {},
   "cell_type": "markdown",
   "source": [
    "### **Train-Test Split**\n",
    "\n",
    "We split the dataset into:\n",
    "- **80% training set**\n",
    "- **20% test set**\n",
    "\n",
    "This allows us to evaluate model performance on unseen data after training, ensuring generalization.\n"
   ],
   "id": "8919ca2d359888ca"
  },
  {
   "metadata": {
    "ExecuteTime": {
     "end_time": "2025-03-31T07:27:29.214618Z",
     "start_time": "2025-03-31T07:27:29.208698Z"
    }
   },
   "cell_type": "code",
   "source": [
    "from sklearn.model_selection import train_test_split\n",
    "\n",
    "X_train, X_test, y_train, y_test = train_test_split(\n",
    "    X_encoded, y, test_size=0.2, random_state=42\n",
    ")\n",
    "\n",
    "print(\"Train shape:\", X_train.shape)\n",
    "print(\"Test shape:\", X_test.shape)\n"
   ],
   "id": "e652c5ce0fe83c44",
   "outputs": [
    {
     "name": "stdout",
     "output_type": "stream",
     "text": [
      "Train shape: (1360, 41)\n",
      "Test shape: (340, 41)\n"
     ]
    }
   ],
   "execution_count": 38
  },
  {
   "metadata": {},
   "cell_type": "markdown",
   "source": [
    "### **Feature Scaling**\n",
    "\n",
    "Feature scaling is applied using **StandardScaler** to bring all numerical features to the same scale.\n",
    "\n",
    "This is especially important for models like Linear Regression and Ridge Regression that are sensitive to feature magnitudes.\n"
   ],
   "id": "ca089dd0c17cf2b1"
  },
  {
   "metadata": {
    "ExecuteTime": {
     "end_time": "2025-03-31T07:27:29.290907Z",
     "start_time": "2025-03-31T07:27:29.281261Z"
    }
   },
   "cell_type": "code",
   "source": [
    "from sklearn.preprocessing import StandardScaler\n",
    "\n",
    "scaler = StandardScaler()\n",
    "\n",
    "X_train_scaled = scaler.fit_transform(X_train)\n",
    "X_test_scaled = scaler.transform(X_test)\n"
   ],
   "id": "db86a139ce4bbabd",
   "outputs": [],
   "execution_count": 39
  },
  {
   "metadata": {},
   "cell_type": "markdown",
   "source": [
    "### **Model Training – Baseline Comparisons**\n",
    "\n",
    "We train three baseline models using 5-fold cross-validation:\n",
    "1. **Linear Regression**\n",
    "2. **Decision Tree Regressor**\n",
    "3. **Random Forest Regressor**\n",
    "\n",
    "The models are evaluated using **R² Score** (coefficient of determination). Random Forest performed the best among these.\n"
   ],
   "id": "5ba3aecd62a27a8"
  },
  {
   "metadata": {
    "ExecuteTime": {
     "end_time": "2025-03-31T07:27:29.361035Z",
     "start_time": "2025-03-31T07:27:29.358091Z"
    }
   },
   "cell_type": "code",
   "source": [
    "from sklearn.model_selection import cross_val_score\n",
    "\n",
    "def evaluate_model(model, X, y, model_name=\"Model\"):\n",
    "    scores = cross_val_score(model, X, y, cv=5, scoring='r2')\n",
    "    print(f\"{model_name} - Mean R²: {scores.mean():.4f} | Std: {scores.std():.4f}\")\n",
    "    return scores\n"
   ],
   "id": "cd4324bac2ff4103",
   "outputs": [],
   "execution_count": 40
  },
  {
   "metadata": {
    "ExecuteTime": {
     "end_time": "2025-03-31T07:27:29.441615Z",
     "start_time": "2025-03-31T07:27:29.419434Z"
    }
   },
   "cell_type": "code",
   "source": [
    "from sklearn.linear_model import LinearRegression\n",
    "\n",
    "lr = LinearRegression()\n",
    "evaluate_model(lr, X_train_scaled, y_train, \"Linear Regression\")\n"
   ],
   "id": "33ef85defd0d9212",
   "outputs": [
    {
     "name": "stdout",
     "output_type": "stream",
     "text": [
      "Linear Regression - Mean R²: 0.5500 | Std: 0.0795\n"
     ]
    },
    {
     "data": {
      "text/plain": [
       "array([0.4142881 , 0.59173316, 0.59110612, 0.51191835, 0.64104635])"
      ]
     },
     "execution_count": 41,
     "metadata": {},
     "output_type": "execute_result"
    }
   ],
   "execution_count": 41
  },
  {
   "metadata": {
    "ExecuteTime": {
     "end_time": "2025-03-31T07:27:29.523917Z",
     "start_time": "2025-03-31T07:27:29.484476Z"
    }
   },
   "cell_type": "code",
   "source": [
    "from sklearn.tree import DecisionTreeRegressor\n",
    "\n",
    "dt = DecisionTreeRegressor(random_state=42)\n",
    "evaluate_model(dt, X_train, y_train, \"Decision Tree Regressor\")\n"
   ],
   "id": "2a4546fac86cd6cc",
   "outputs": [
    {
     "name": "stdout",
     "output_type": "stream",
     "text": [
      "Decision Tree Regressor - Mean R²: 0.1853 | Std: 0.2005\n"
     ]
    },
    {
     "data": {
      "text/plain": [
       "array([ 0.09111129,  0.43730204,  0.18923184,  0.34500433, -0.13590143])"
      ]
     },
     "execution_count": 42,
     "metadata": {},
     "output_type": "execute_result"
    }
   ],
   "execution_count": 42
  },
  {
   "metadata": {
    "ExecuteTime": {
     "end_time": "2025-03-31T07:27:31.147671Z",
     "start_time": "2025-03-31T07:27:29.531595Z"
    }
   },
   "cell_type": "code",
   "source": [
    "from sklearn.ensemble import RandomForestRegressor\n",
    "\n",
    "rf = RandomForestRegressor(n_estimators=100, random_state=42)\n",
    "evaluate_model(rf, X_train, y_train, \"Random Forest Regressor\")\n"
   ],
   "id": "bcfb5a6073af3af4",
   "outputs": [
    {
     "name": "stdout",
     "output_type": "stream",
     "text": [
      "Random Forest Regressor - Mean R²: 0.5537 | Std: 0.0404\n"
     ]
    },
    {
     "data": {
      "text/plain": [
       "array([0.50266192, 0.5266809 , 0.62154984, 0.55001636, 0.56776657])"
      ]
     },
     "execution_count": 43,
     "metadata": {},
     "output_type": "execute_result"
    }
   ],
   "execution_count": 43
  },
  {
   "metadata": {},
   "cell_type": "markdown",
   "source": [
    "### **Hyperparameter Tuning**\n",
    "\n",
    "We tune our models using **GridSearchCV** to find the optimal combination of hyperparameters.\n",
    "\n",
    "#### Random Forest:\n",
    "- Best R² Score (CV): ~0.5896\n",
    "- Best Parameters: `n_estimators=200`, `max_depth=None`, `min_samples_leaf=2`, `min_samples_split=2`\n",
    "\n",
    "#### Gradient Boosting:\n",
    "- Best R² Score (CV): ~0.5498\n",
    "- Best Parameters: `n_estimators=100`, `learning_rate=0.05`, `max_depth=3`, `min_samples_split=2`\n"
   ],
   "id": "c6b95b68b998c306"
  },
  {
   "metadata": {
    "ExecuteTime": {
     "end_time": "2025-03-31T07:27:43.478134Z",
     "start_time": "2025-03-31T07:27:31.165578Z"
    }
   },
   "cell_type": "code",
   "source": [
    "from sklearn.model_selection import GridSearchCV\n",
    "\n",
    "rf_params = {\n",
    "    'n_estimators': [100, 200],\n",
    "    'max_depth': [10, 20, None],\n",
    "    'min_samples_split': [2, 5],\n",
    "    'min_samples_leaf': [1, 2]\n",
    "}\n",
    "\n",
    "grid_rf = GridSearchCV(\n",
    "    RandomForestRegressor(random_state=42),\n",
    "    rf_params,\n",
    "    cv=5,\n",
    "    scoring='r2',\n",
    "    n_jobs=-1,\n",
    "    verbose=1\n",
    ")\n",
    "\n",
    "grid_rf.fit(X_train, y_train)\n",
    "\n",
    "print(\"Best Random Forest Params:\", grid_rf.best_params_)\n",
    "print(\"Best CV R² Score:\", grid_rf.best_score_)\n"
   ],
   "id": "8eba1fcb9006ee8c",
   "outputs": [
    {
     "name": "stdout",
     "output_type": "stream",
     "text": [
      "Fitting 5 folds for each of 24 candidates, totalling 120 fits\n",
      "Best Random Forest Params: {'max_depth': 20, 'min_samples_leaf': 2, 'min_samples_split': 5, 'n_estimators': 200}\n",
      "Best CV R² Score: 0.5897784549211581\n"
     ]
    }
   ],
   "execution_count": 44
  },
  {
   "metadata": {
    "ExecuteTime": {
     "end_time": "2025-03-31T07:27:46.912593Z",
     "start_time": "2025-03-31T07:27:43.514927Z"
    }
   },
   "cell_type": "code",
   "source": [
    "from sklearn.ensemble import GradientBoostingRegressor\n",
    "\n",
    "gb_params = {\n",
    "    'n_estimators': [100, 200],\n",
    "    'learning_rate': [0.05, 0.1],\n",
    "    'max_depth': [3, 5],\n",
    "    'min_samples_split': [2, 5]\n",
    "}\n",
    "\n",
    "grid_gb = GridSearchCV(\n",
    "    GradientBoostingRegressor(random_state=42),\n",
    "    gb_params,\n",
    "    cv=5,\n",
    "    scoring='r2',\n",
    "    n_jobs=-1,\n",
    "    verbose=1\n",
    ")\n",
    "\n",
    "grid_gb.fit(X_train, y_train)\n",
    "\n",
    "print(\"Best Gradient Boosting Params:\", grid_gb.best_params_)\n",
    "print(\"Best CV R² Score:\", grid_gb.best_score_)\n"
   ],
   "id": "f17a0d04dfaf8cb4",
   "outputs": [
    {
     "name": "stdout",
     "output_type": "stream",
     "text": [
      "Fitting 5 folds for each of 16 candidates, totalling 80 fits\n",
      "Best Gradient Boosting Params: {'learning_rate': 0.05, 'max_depth': 3, 'min_samples_split': 2, 'n_estimators': 100}\n",
      "Best CV R² Score: 0.549852642822516\n"
     ]
    }
   ],
   "execution_count": 45
  },
  {
   "metadata": {},
   "cell_type": "markdown",
   "source": [
    "### **Final Model Evaluation**\n",
    "\n",
    "We evaluated the best-tuned **Random Forest model** on the test set.\n",
    "\n",
    "**Results:**\n",
    "- MAE: ~€5,002\n",
    "- RMSE: ~€8,301\n",
    "- R² Score: **0.6658**\n",
    "\n",
    "This means the model can explain around **66% of the variance** in used car sale prices on unseen data — a solid performance given the unpredictable nature of pricing.\n"
   ],
   "id": "3e370784ee814c7e"
  },
  {
   "metadata": {
    "ExecuteTime": {
     "end_time": "2025-03-31T07:27:47.855340Z",
     "start_time": "2025-03-31T07:27:47.836898Z"
    }
   },
   "cell_type": "code",
   "source": [
    "y_pred = grid_rf.best_estimator_.predict(X_test)\n",
    "\n",
    "mae = mean_absolute_error(y_test, y_pred)\n",
    "rmse = np.sqrt(mean_squared_error(y_test, y_pred))\n",
    "r2 = r2_score(y_test, y_pred)\n",
    "\n",
    "print(f\"Final Test Set Evaluation (Random Forest)\")\n",
    "print(f\"MAE: {mae:.2f}\")\n",
    "print(f\"RMSE: {rmse:.2f}\")\n",
    "print(f\"R² Score: {r2:.4f}\")"
   ],
   "id": "bdbd6cf493829ce9",
   "outputs": [
    {
     "name": "stdout",
     "output_type": "stream",
     "text": [
      "Final Test Set Evaluation (Random Forest)\n",
      "MAE: 5002.75\n",
      "RMSE: 8301.78\n",
      "R² Score: 0.6658\n"
     ]
    }
   ],
   "execution_count": 46
  },
  {
   "metadata": {
    "ExecuteTime": {
     "end_time": "2025-03-31T07:27:48.044238Z",
     "start_time": "2025-03-31T07:27:47.978687Z"
    }
   },
   "cell_type": "code",
   "source": [
    "import matplotlib.pyplot as plt\n",
    "\n",
    "plt.figure(figsize=(8,6))\n",
    "plt.scatter(y_test, y_pred, alpha=0.6, color='teal')\n",
    "plt.plot([y_test.min(), y_test.max()], [y_test.min(), y_test.max()], '--r')\n",
    "plt.title(\"Actual vs Predicted Sale Price (€)\")\n",
    "plt.xlabel(\"Actual\")\n",
    "plt.ylabel(\"Predicted\")\n",
    "plt.grid(True)\n",
    "plt.show()\n"
   ],
   "id": "ed16ac704b2bc812",
   "outputs": [
    {
     "data": {
      "text/plain": [
       "<Figure size 800x600 with 1 Axes>"
      ],
      "image/png": "[encoded data removed]"
     },
     "metadata": {},
     "output_type": "display_data"
    }
   ],
   "execution_count": 47
  },
  {
   "metadata": {},
   "cell_type": "markdown",
   "source": [
    "### **Model Export for Deployment**\n",
    "\n",
    "The final model was exported using `joblib` and saved as `model.pkl`. This allows it to be integrated into a **Streamlit web application** for real-time car price prediction.\n",
    "\n",
    "```python\n",
    "joblib.dump(best_model, \"../saved_models/model.pkl\")\n"
   ],
   "id": "e7ecc5d074d19f21"
  },
  {
   "metadata": {
    "ExecuteTime": {
     "end_time": "2025-03-31T07:27:48.225689Z",
     "start_time": "2025-03-31T07:27:48.192854Z"
    }
   },
   "cell_type": "code",
   "source": [
    "import joblib\n",
    "\n",
    "joblib.dump(grid_rf.best_estimator_, \"../saved_models/model.pkl\")\n",
    "print(\"Best model saved to: saved_models/model.pkl\")"
   ],
   "id": "166fbb283353550c",
   "outputs": [
    {
     "name": "stdout",
     "output_type": "stream",
     "text": [
      "Best model saved to: saved_models/model.pkl\n"
     ]
    }
   ],
   "execution_count": 48
  }
 ],
 "metadata": {
  "kernelspec": {
   "display_name": "Python 3",
   "language": "python",
   "name": "python3"
  },
  "language_info": {
   "codemirror_mode": {
    "name": "ipython",
    "version": 2
   },
   "file_extension": ".py",
   "mimetype": "text/x-python",
   "name": "python",
   "nbconvert_exporter": "python",
   "pygments_lexer": "ipython2",
   "version": "2.7.6"
  }
 },
 "nbformat": 4,
 "nbformat_minor": 5
}
